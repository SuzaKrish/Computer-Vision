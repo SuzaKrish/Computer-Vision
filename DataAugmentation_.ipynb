{
  "nbformat": 4,
  "nbformat_minor": 0,
  "metadata": {
    "colab": {
      "name": "DataAugmentation .ipynb",
      "provenance": [],
      "machine_shape": "hm",
      "include_colab_link": true
    },
    "kernelspec": {
      "name": "python3",
      "display_name": "Python 3"
    }
  },
  "cells": [
    {
      "cell_type": "markdown",
      "metadata": {
        "id": "view-in-github",
        "colab_type": "text"
      },
      "source": [
        "<a href=\"https://colab.research.google.com/github/SuzaKrish/Computer-Vision/blob/master/DataAugmentation_.ipynb\" target=\"_parent\"><img src=\"https://colab.research.google.com/assets/colab-badge.svg\" alt=\"Open In Colab\"/></a>"
      ]
    },
    {
      "cell_type": "code",
      "metadata": {
        "colab_type": "code",
        "id": "gIMQhfmejmkn",
        "colab": {
          "base_uri": "https://localhost:8080/",
          "height": 156
        },
        "outputId": "fb77cd9f-f796-477d-d19b-b372b435ce9c"
      },
      "source": [
        "from google.colab import drive\n",
        "drive.mount('/content/drive')\n",
        "%cd '/content/drive/My Drive/Data_Aug'\n"
      ],
      "execution_count": 2,
      "outputs": [
        {
          "output_type": "stream",
          "text": [
            "Go to this URL in a browser: https://accounts.google.com/o/oauth2/auth?client_id=947318989803-6bn6qk8qdgf4n4g3pfee6491hc0brc4i.apps.googleusercontent.com&redirect_uri=urn%3aietf%3awg%3aoauth%3a2.0%3aoob&scope=email%20https%3a%2f%2fwww.googleapis.com%2fauth%2fdocs.test%20https%3a%2f%2fwww.googleapis.com%2fauth%2fdrive%20https%3a%2f%2fwww.googleapis.com%2fauth%2fdrive.photos.readonly%20https%3a%2f%2fwww.googleapis.com%2fauth%2fpeopleapi.readonly&response_type=code\n",
            "\n",
            "Enter your authorization code:\n",
            "··········\n",
            "Mounted at /content/drive\n",
            "[Errno 2] No such file or directory: '/content/drive/My Drive/Data_Aug'\n",
            "/content\n"
          ],
          "name": "stdout"
        }
      ]
    },
    {
      "cell_type": "code",
      "metadata": {
        "colab_type": "code",
        "id": "6fPBYV1oZ6w5",
        "colab": {}
      },
      "source": [
        "import numpy as np\n",
        "import scipy\n",
        "import csv\n",
        "import cv2\n",
        "import glob\n",
        "from os import path\n",
        "import random\n",
        "import shutil\n",
        "from PIL import Image, ImageOps\n"
      ],
      "execution_count": null,
      "outputs": []
    },
    {
      "cell_type": "code",
      "metadata": {
        "id": "qS0bpM5fXfqK",
        "colab_type": "code",
        "colab": {}
      },
      "source": [
        "def separate(): #\n",
        "    #Extract the images for different classes and store in individual files \n",
        "    annotations = r'TrainAnnotation.csv' # Annotations pertaining to the training data\n",
        "    count_cat = np.zeros([1, 5])\n",
        "    source = r\"TrainData-C2-20200408T163601Z-001/TrainData-C2//\" #actual Training data\n",
        "\n",
        "    with open(annotations, newline = '') as csvfile:\n",
        "        csvread = csv.reader(csvfile)\n",
        "        next(csvread)\n",
        "        for row in csvread:\n",
        "            if(row[1] == '0'):\n",
        "                count_cat[0, 0] += 1\n",
        "                if(path.isfile(path.join(source, row[0]))):\n",
        "                    shutil.copy(path.join(source, row[0]), r'Cat0')\n",
        "        \n",
        "            elif(row[1] == '1'):\n",
        "                count_cat[0, 1] += 1\n",
        "                if(path.isfile(path.join(source, row[0]))):\n",
        "                    shutil.copy(path.join(source, row[0]), r'Cat1')\n",
        "\n",
        "            elif(row[1] == '2'):\n",
        "                count_cat[0, 2] += 1\n",
        "                if(path.isfile(path.join(source, row[0]))):\n",
        "                    shutil.copy(path.join(source, row[0]), r'Cat2')\n",
        "\n",
        "            elif(row[1] == '3'):\n",
        "                count_cat[0, 3] += 1\n",
        "                if(path.isfile(path.join(source, row[0]))):\n",
        "                    shutil.copy(path.join(source, row[0]), r'Cat3')\n",
        "\n",
        "            elif(row[1] == '4'):\n",
        "                count_cat[0, 4] += 1\n",
        "                if(path.isfile(path.join(source, row[0]))):\n",
        "                    shutil.copy(path.join(source, row[0]), r'Cat4')\n",
        "\n",
        "\n",
        "    print('The number of images in each category are: {}, {}, {}, {}, {}'.format(count_cat[0, 0], count_cat[0, 1], count_cat[0, 2], count_cat[0, 3], count_cat[0, 4]))\n",
        "    return count_cat\n"
      ],
      "execution_count": null,
      "outputs": []
    },
    {
      "cell_type": "code",
      "metadata": {
        "id": "sKS4wBwGXmDg",
        "colab_type": "code",
        "colab": {}
      },
      "source": [
        "def flipy(img):\n",
        "    return cv2.flip(img, 1)"
      ],
      "execution_count": null,
      "outputs": []
    },
    {
      "cell_type": "code",
      "metadata": {
        "id": "2nX-yL7lXpWn",
        "colab_type": "code",
        "colab": {}
      },
      "source": [
        "def blur(img):\n",
        "    return cv2.GaussianBlur(img, (3,3), 2)"
      ],
      "execution_count": null,
      "outputs": []
    },
    {
      "cell_type": "code",
      "metadata": {
        "id": "Rh7zSOFUXs-k",
        "colab_type": "code",
        "colab": {}
      },
      "source": [
        "def cropped(img):\n",
        "    x = random.randint(0, img.shape[0]-10)\n",
        "    y = random.randint(0, img.shape[1]-10)\n",
        "    print(img.shape)\n",
        "    window = 200\n",
        "    right = y + window\n",
        "    lower = x + window\n",
        "    img1 = np.array(img[x : lower, y : right])\n",
        "    img1 = cv2.resize(img1, (img.shape[1], img.shape[0]))\n",
        "    print(img1.shape)\n",
        "   \n",
        "    return img1"
      ],
      "execution_count": null,
      "outputs": []
    },
    {
      "cell_type": "code",
      "metadata": {
        "id": "8vqGPba-XwOF",
        "colab_type": "code",
        "colab": {}
      },
      "source": [
        "def enhance(img):\n",
        "    x = img.shape[0]\n",
        "    y = img.shape[1]\n",
        "    ch = img.shape[2]\n",
        "    b = 40\n",
        "    new_img = np.zeros([img.shape[0], img.shape[1], img.shape[2]])\n",
        "    for k in range(ch):\n",
        "        for i in range(x):\n",
        "            for j in range(y):\n",
        "                new_img[i,j,k] = np.uint8(b * np.log(1 + img[i, j, k]))\n",
        "    \n",
        "    return new_img"
      ],
      "execution_count": null,
      "outputs": []
    },
    {
      "cell_type": "markdown",
      "metadata": {
        "id": "sPAtYdWKXzo9",
        "colab_type": "text"
      },
      "source": [
        "#Data Augmentation :\n",
        "###Bringing all categories to 500 images.Performs Flipping about y axis, Scaling, Blurring, Contrast Stretching, Rotation\n",
        "###*c = Keeps track of new images created per Category\n",
        "###*addlimit = Images to be added\n",
        "###*When c == addlimit, stop augmenting\n",
        "###*setinput = Keeps track of no.of old dataset images\n"
      ]
    },
    {
      "cell_type": "code",
      "metadata": {
        "id": "g8O1uqe-YTuz",
        "colab_type": "code",
        "colab": {}
      },
      "source": [
        "def aug(path, newpath, nc, cat):\n",
        "  annotations = r'TrainAnnotation.csv'\n",
        "  c = 0  # c = Keeps track of new images created per Category\n",
        "  # When c == addlimit, stop augmenting \n",
        "    \n",
        "  setinput = 0 # setinput = Keeps track of no.of old dataset images \n",
        "\n",
        "  for img in glob.glob(path):\n",
        "    I = cv2.imread(img)\n",
        "    setinput += 1\n",
        "    if(setinput < 20 or (setinput >= 100 and setinput < 200)): # Works on original image\n",
        "      setno = 0\n",
        "      while(setno < 4):\n",
        "        if setno == 0:\n",
        "          newimg = cropped(I)\n",
        "        elif setno == 1:\n",
        "          newimg = flipy(I)\n",
        "        elif setno == 2:\n",
        "          newimg = blur(I)\n",
        "        elif setno == 3:\n",
        "          newimg = enhance(I)\n",
        "                \n",
        "        setno += 1\n",
        "        c += 1\n",
        "        nc += 1\n",
        "        name = newpath + str(nc) + '.jpg'\n",
        "        cv2.imwrite(name, newimg) \n",
        "        new_a = [name, cat]\n",
        "        with open(annotations, 'a') as csvfile:\n",
        "          csvapp = csv.writer(csvfile)\n",
        "          csvapp.writerow(new_a)\n",
        "        \n",
        "    elif((setinput >= 20 and setinput < 40) or (setinput >= 200 and setinput < 300)): #Works on flipped image\n",
        "      setno = 0\n",
        "      while(setno < 4):\n",
        "        if setno == 0:\n",
        "          newimg = flipy(I)\n",
        "          dup = newimg\n",
        "        elif setno == 1:\n",
        "          newimg = cropped(dup)\n",
        "        elif setno == 2:\n",
        "          newimg = blur(dup)\n",
        "        elif setno == 3:\n",
        "          newimg = enhance(dup)\n",
        "                \n",
        "        setno += 1\n",
        "        c += 1\n",
        "        nc += 1\n",
        "        name = newpath + str(nc) + '.jpg'\n",
        "        cv2.imwrite(name, newimg) \n",
        "        new_a = [name, cat]\n",
        "        with open(annotations, 'a') as csvfile:\n",
        "          csvapp = csv.writer(csvfile)\n",
        "          csvapp.writerow(new_a)\n",
        "            \n",
        "    elif((setinput >= 40 and setinput < 80) or (setinput >= 300 and setinput < 400)): # Works on blurred image\n",
        "      setno = 0\n",
        "      while(setno < 4):\n",
        "        if setno == 0: \n",
        "          newimg = blur(I)\n",
        "          dup = newimg\n",
        "        elif setno == 1:\n",
        "         newimg = cropped(dup)\n",
        "        elif setno == 2:\n",
        "          newimg = flipy(dup)\n",
        "        elif setno == 3:\n",
        "          newimg = enhance(dup)\n",
        "      setno += 1\n",
        "      c += 1\n",
        "      nc += 1\n",
        "      name = newpath + str(nc) + '.jpg'\n",
        "      cv2.imwrite(name, newimg) \n",
        "      new_a = [name, cat]\n",
        "      with open(annotations, 'a') as csvfile:\n",
        "        csvapp = csv.writer(csvfile)\n",
        "        csvapp.writerow(new_a)\n",
        "\n",
        "    elif((setinput >= 80 and setinput < 100) or (setinput >= 400 and setinput < 500)): # Works on enhanced image\n",
        "      setno = 0 \n",
        "      while(setno < 4):\n",
        "        if setno == 0: \n",
        "          newimg = enhance(I)\n",
        "          dup = newimg\n",
        "        elif setno == 1:\n",
        "          newimg = cropped(dup)\n",
        "        elif setno == 2:\n",
        "          newimg = flipy(dup)\n",
        "        elif setno == 3:\n",
        "          newimg = blur(dup)\n",
        "                \n",
        "      setno += 1\n",
        "      c += 1\n",
        "      nc += 1\n",
        "      name = newpath + str(nc) + '.jpg'\n",
        "      cv2.imwrite(name, newimg) \n",
        "      new_a = [name, cat]\n",
        "      with open(annotations, 'a') as csvfile:\n",
        "        csvapp = csv.writer(csvfile)\n",
        "        csvapp.writerow(new_a)\n",
        "            \n",
        "    c5 = cv2.rotate(I, rotateCode= cv2.ROTATE_90_CLOCKWISE)\n",
        "    name = newpath + str(nc) + '.jpg'\n",
        "    cv2.imwrite(name, c5)\n",
        "    new_a = [name, cat]\n",
        "    with open(annotations, 'a') as csvfile:\n",
        "      csvapp = csv.writer(csvfile)\n",
        "      csvapp.writerow(new_a)\n",
        "    \n",
        "  return nc"
      ],
      "execution_count": null,
      "outputs": []
    },
    {
      "cell_type": "code",
      "metadata": {
        "colab_type": "code",
        "id": "K7f7n_ntYn19",
        "colab": {}
      },
      "source": [
        "f0 = r'Cat0/*.jpg'\n",
        "f1 = r'Cat1/*.jpg'\n",
        "f2 = r'Cat2/*.jpg'\n",
        "f3 = r'Cat3/*.jpg'\n",
        "f4 = r'Cat4/*.jpg'\n",
        "\n",
        "nf0 = r'NCat0//'\n",
        "nf1 = r'NCat1//'\n",
        "nf2 = r'NCat2//'\n",
        "nf3 = r'NCat3//'\n",
        "nf4 = r'NCat4//'\n"
      ],
      "execution_count": null,
      "outputs": []
    },
    {
      "cell_type": "code",
      "metadata": {
        "id": "LPKV7dsGYpky",
        "colab_type": "code",
        "colab": {}
      },
      "source": [
        "#numdata = separate()\n",
        "\n",
        "nc = 0 # Naming for all new data \n",
        "nc = aug(f2, nf2, nc, '2')\n",
        "print(nc)\n",
        "nc = aug(f3, nf3, nc, '3')\n",
        "print(nc)\n",
        "nc = aug(f4, nf4, nc, '4')\n",
        "print(nc)\n",
        "nc = aug(f1, nf1, nc, '1')\n",
        "print(nc)\n",
        "nc = aug(f0, nf0, nc, '0')\n",
        "print(nc)"
      ],
      "execution_count": null,
      "outputs": []
    }
  ]
}